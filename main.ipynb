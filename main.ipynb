{
 "cells": [
  {
   "cell_type": "code",
   "execution_count": 4,
   "id": "320329b1",
   "metadata": {},
   "outputs": [],
   "source": [
    "import pandas as pd\n",
    "from scholarly import scholarly"
   ]
  },
  {
   "cell_type": "code",
   "execution_count": 2,
   "id": "6862b661",
   "metadata": {},
   "outputs": [],
   "source": [
    "a = pd.read_csv(\"./resultados_artigos.csv\")\n",
    "a = a.sort_values(by='citacoes', ascending=False)\n",
    "a = a.reset_index(drop=True)"
   ]
  },
  {
   "cell_type": "code",
   "execution_count": 20,
   "id": "5b9b4d7c",
   "metadata": {},
   "outputs": [
    {
     "data": {
      "text/plain": [
       "titulo      Traffic assignment by paired alternative segments\n",
       "ano                                                      2010\n",
       "citacoes                                                  262\n",
       "revista        Transportation Research Part B: Methodological\n",
       "abstract    is a new algorithm for the static deterministi...\n",
       "Name: 1, dtype: object"
      ]
     },
     "execution_count": 20,
     "metadata": {},
     "output_type": "execute_result"
    }
   ],
   "source": [
    "a.iloc[1]"
   ]
  },
  {
   "cell_type": "code",
   "execution_count": 10,
   "id": "a7f9f07d",
   "metadata": {},
   "outputs": [
    {
     "data": {
      "text/html": [
       "<div>\n",
       "<style scoped>\n",
       "    .dataframe tbody tr th:only-of-type {\n",
       "        vertical-align: middle;\n",
       "    }\n",
       "\n",
       "    .dataframe tbody tr th {\n",
       "        vertical-align: top;\n",
       "    }\n",
       "\n",
       "    .dataframe thead th {\n",
       "        text-align: right;\n",
       "    }\n",
       "</style>\n",
       "<table border=\"1\" class=\"dataframe\">\n",
       "  <thead>\n",
       "    <tr style=\"text-align: right;\">\n",
       "      <th></th>\n",
       "      <th>titulo</th>\n",
       "      <th>ano</th>\n",
       "      <th>citacoes</th>\n",
       "      <th>revista</th>\n",
       "      <th>abstract</th>\n",
       "    </tr>\n",
       "  </thead>\n",
       "  <tbody>\n",
       "    <tr>\n",
       "      <th>0</th>\n",
       "      <td>The traffic assignment problem: models and met...</td>\n",
       "      <td>2015</td>\n",
       "      <td>1757</td>\n",
       "      <td>NaN</td>\n",
       "      <td>of flow distribution in a road network: the us...</td>\n",
       "    </tr>\n",
       "    <tr>\n",
       "      <th>1</th>\n",
       "      <td>Traffic assignment by paired alternative segments</td>\n",
       "      <td>2010</td>\n",
       "      <td>262</td>\n",
       "      <td>Transportation Research Part B: Methodological</td>\n",
       "      <td>is a new algorithm for the static deterministi...</td>\n",
       "    </tr>\n",
       "    <tr>\n",
       "      <th>2</th>\n",
       "      <td>C-logit stochastic user equilibrium model: for...</td>\n",
       "      <td>2012</td>\n",
       "      <td>188</td>\n",
       "      <td>Transportmetrica</td>\n",
       "      <td>A self-adaptive scaling technique embedded in ...</td>\n",
       "    </tr>\n",
       "    <tr>\n",
       "      <th>3</th>\n",
       "      <td>A class of bush-based algorithms for the traff...</td>\n",
       "      <td>2010</td>\n",
       "      <td>162</td>\n",
       "      <td>Transportation Research Part B: Methodological</td>\n",
       "      <td>of bush-based algorithms (BA) for the user equ...</td>\n",
       "    </tr>\n",
       "    <tr>\n",
       "      <th>4</th>\n",
       "      <td>Approximate network loading and dual-time-scal...</td>\n",
       "      <td>2011</td>\n",
       "      <td>148</td>\n",
       "      <td>Transportation Research Part B …</td>\n",
       "      <td>an actual dynamic user equilibrium, we introdu...</td>\n",
       "    </tr>\n",
       "    <tr>\n",
       "      <th>...</th>\n",
       "      <td>...</td>\n",
       "      <td>...</td>\n",
       "      <td>...</td>\n",
       "      <td>...</td>\n",
       "      <td>...</td>\n",
       "    </tr>\n",
       "    <tr>\n",
       "      <th>95</th>\n",
       "      <td>Review of traffic assignment and future challe...</td>\n",
       "      <td>2024</td>\n",
       "      <td>2</td>\n",
       "      <td>Applied Sciences</td>\n",
       "      <td>dynamic assignment, where the concepts and alg...</td>\n",
       "    </tr>\n",
       "    <tr>\n",
       "      <th>96</th>\n",
       "      <td>User equilibrium traffic assignment: k paths s...</td>\n",
       "      <td>2021</td>\n",
       "      <td>1</td>\n",
       "      <td>arXiv preprint arXiv:2107.04018</td>\n",
       "      <td>) algorithm to approximate the user equilibriu...</td>\n",
       "    </tr>\n",
       "    <tr>\n",
       "      <th>97</th>\n",
       "      <td>Model and Algorithm for Traffic Network Design...</td>\n",
       "      <td>2015</td>\n",
       "      <td>1</td>\n",
       "      <td>International Journal of Smart Home</td>\n",
       "      <td>design problem and gained wide acceptance, so,...</td>\n",
       "    </tr>\n",
       "    <tr>\n",
       "      <th>98</th>\n",
       "      <td>Method of quantifying uncertainty inuser equil...</td>\n",
       "      <td>2019</td>\n",
       "      <td>1</td>\n",
       "      <td>Nanjing Xinxi Gongcheng Daxue …</td>\n",
       "      <td>⁃Wolf算法流程 Fig􀆰 2 The Frank⁃Wolf algorithm flow...</td>\n",
       "    </tr>\n",
       "    <tr>\n",
       "      <th>99</th>\n",
       "      <td>A Deep Learning-Based Framework for Accelerati...</td>\n",
       "      <td>2024</td>\n",
       "      <td>0</td>\n",
       "      <td>2024 IEEE Power &amp; Energy …</td>\n",
       "      <td>not inherently prioritize the attainment of us...</td>\n",
       "    </tr>\n",
       "  </tbody>\n",
       "</table>\n",
       "<p>100 rows × 5 columns</p>\n",
       "</div>"
      ],
      "text/plain": [
       "                                               titulo   ano  citacoes  \\\n",
       "0   The traffic assignment problem: models and met...  2015      1757   \n",
       "1   Traffic assignment by paired alternative segments  2010       262   \n",
       "2   C-logit stochastic user equilibrium model: for...  2012       188   \n",
       "3   A class of bush-based algorithms for the traff...  2010       162   \n",
       "4   Approximate network loading and dual-time-scal...  2011       148   \n",
       "..                                                ...   ...       ...   \n",
       "95  Review of traffic assignment and future challe...  2024         2   \n",
       "96  User equilibrium traffic assignment: k paths s...  2021         1   \n",
       "97  Model and Algorithm for Traffic Network Design...  2015         1   \n",
       "98  Method of quantifying uncertainty inuser equil...  2019         1   \n",
       "99  A Deep Learning-Based Framework for Accelerati...  2024         0   \n",
       "\n",
       "                                           revista  \\\n",
       "0                                              NaN   \n",
       "1   Transportation Research Part B: Methodological   \n",
       "2                                 Transportmetrica   \n",
       "3   Transportation Research Part B: Methodological   \n",
       "4                 Transportation Research Part B …   \n",
       "..                                             ...   \n",
       "95                                Applied Sciences   \n",
       "96                 arXiv preprint arXiv:2107.04018   \n",
       "97             International Journal of Smart Home   \n",
       "98                 Nanjing Xinxi Gongcheng Daxue …   \n",
       "99                      2024 IEEE Power & Energy …   \n",
       "\n",
       "                                             abstract  \n",
       "0   of flow distribution in a road network: the us...  \n",
       "1   is a new algorithm for the static deterministi...  \n",
       "2   A self-adaptive scaling technique embedded in ...  \n",
       "3   of bush-based algorithms (BA) for the user equ...  \n",
       "4   an actual dynamic user equilibrium, we introdu...  \n",
       "..                                                ...  \n",
       "95  dynamic assignment, where the concepts and alg...  \n",
       "96  ) algorithm to approximate the user equilibriu...  \n",
       "97  design problem and gained wide acceptance, so,...  \n",
       "98  ⁃Wolf算法流程 Fig􀆰 2 The Frank⁃Wolf algorithm flow...  \n",
       "99  not inherently prioritize the attainment of us...  \n",
       "\n",
       "[100 rows x 5 columns]"
      ]
     },
     "execution_count": 10,
     "metadata": {},
     "output_type": "execute_result"
    }
   ],
   "source": [
    "a"
   ]
  },
  {
   "cell_type": "code",
   "execution_count": 9,
   "id": "f934ac7d",
   "metadata": {},
   "outputs": [
    {
     "name": "stdout",
     "output_type": "stream",
     "text": [
      "Título: Traffic assignment by paired alternative segments\n",
      "Autor(es): ['H Bar-Gera']\n",
      "Ano: 2010\n",
      "Abstract: we focus primarily is a Pair of Alternative Segments (PAS). The direction of the generalized  cycle is chosen to match the direction of the lower cost segment. Sending flow around the\n"
     ]
    }
   ],
   "source": [
    "search_results = scholarly.search_pubs(texto)\n",
    "\n",
    "# Obter os resultados da pesquisa (primeiro resultado)\n",
    "article = next(search_results)\n",
    "\n",
    "# Exibir as informações, incluindo o abstract\n",
    "print(f'Título: {article[\"bib\"][\"title\"]}')\n",
    "print(f'Autor(es): {article[\"bib\"][\"author\"]}')\n",
    "print(f'Ano: {article[\"bib\"][\"pub_year\"]}')\n",
    "print(f'Abstract: {article[\"bib\"].get(\"abstract\", \"Abstract não disponível\")}')"
   ]
  },
  {
   "cell_type": "code",
   "execution_count": 18,
   "id": "41a8cc09",
   "metadata": {},
   "outputs": [
    {
     "data": {
      "text/plain": [
       "{'container_type': 'Publication',\n",
       " 'source': <PublicationSource.PUBLICATION_SEARCH_SNIPPET: 'PUBLICATION_SEARCH_SNIPPET'>,\n",
       " 'bib': {'title': 'Traffic assignment by paired alternative segments',\n",
       "  'author': ['H Bar-Gera'],\n",
       "  'pub_year': '2010',\n",
       "  'venue': 'Transportation Research Part B: Methodological',\n",
       "  'abstract': 'we focus primarily is a Pair of Alternative Segments (PAS). The direction of the generalized  cycle is chosen to match the direction of the lower cost segment. Sending flow around the'},\n",
       " 'filled': False,\n",
       " 'gsrank': 1,\n",
       " 'pub_url': 'https://www.sciencedirect.com/science/article/pii/S0191261509001350',\n",
       " 'author_id': ['-Y7cFhkAAAAJ'],\n",
       " 'url_scholarbib': '/scholar?hl=en&q=info:XWIwOmyydyIJ:scholar.google.com/&output=cite&scirp=0&hl=en',\n",
       " 'url_add_sclib': '/citations?hl=en&xsrf=&continue=/scholar%3Fq%3DTraffic%2Bassignment%2Bby%2Bpaired%2Balternative%2Bsegments%26hl%3Den%26as_sdt%3D0,33&citilm=1&update_op=library_add&info=XWIwOmyydyIJ&ei=BbgTaLv9LJPOieoPlcDpoQc&json=',\n",
       " 'num_citations': 262,\n",
       " 'citedby_url': '/scholar?cites=2483649897420579421&as_sdt=5,33&sciodt=0,33&hl=en',\n",
       " 'url_related_articles': '/scholar?q=related:XWIwOmyydyIJ:scholar.google.com/&scioq=Traffic+assignment+by+paired+alternative+segments&hl=en&as_sdt=0,33',\n",
       " 'eprint_url': 'https://www.researchgate.net/profile/David-Boyce-2/publication/226620648_Origin-based_Network_Assignment/links/5a609c5a0f7e9bfbc3f75ce1/Origin-based-Network-Assignment.pdf'}"
      ]
     },
     "execution_count": 18,
     "metadata": {},
     "output_type": "execute_result"
    }
   ],
   "source": [
    "article"
   ]
  }
 ],
 "metadata": {
  "kernelspec": {
   "display_name": "venv",
   "language": "python",
   "name": "python3"
  },
  "language_info": {
   "codemirror_mode": {
    "name": "ipython",
    "version": 3
   },
   "file_extension": ".py",
   "mimetype": "text/x-python",
   "name": "python",
   "nbconvert_exporter": "python",
   "pygments_lexer": "ipython3",
   "version": "3.12.3"
  }
 },
 "nbformat": 4,
 "nbformat_minor": 5
}
